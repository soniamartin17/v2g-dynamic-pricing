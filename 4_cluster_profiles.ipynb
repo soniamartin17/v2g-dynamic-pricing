{
 "cells": [
  {
   "cell_type": "code",
   "execution_count": null,
   "metadata": {},
   "outputs": [],
   "source": [
    "import pandas as pd\n",
    "import numpy as np\n",
    "import matplotlib.pyplot as plt\n",
    "import os"
   ]
  },
  {
   "cell_type": "markdown",
   "metadata": {},
   "source": [
    "## Figure 4: Cluster Profiles"
   ]
  },
  {
   "cell_type": "code",
   "execution_count": null,
   "metadata": {},
   "outputs": [],
   "source": [
    "color_palette= ['#332288',  # dark blue\n",
    "                          '#117733',  # green\n",
    "                          '#44AA99',  # teal\n",
    "                          '#88CCEE',  # light blue\n",
    "                          '#DDCC77',  # yellow\n",
    "                          '#CC6677',  # red\n",
    "                          '#AA4499',  # purple\n",
    "                          '#661100',  # moved dark brown\n",
    "                          '#888888',  # moved medium gray\n",
    "                          '#999933',  # olive\n",
    "                          '#882255',  # moved brown\n",
    "                          '#6699CC']  # steel blue\n",
    "\n",
    "#load feature array\n",
    "feat_array = pd.read_csv('Data/feature_array_daily_access.csv').values\n",
    "timesteps = int(np.shape(feat_array)[1])"
   ]
  },
  {
   "cell_type": "code",
   "execution_count": null,
   "metadata": {},
   "outputs": [],
   "source": [
    "parent_dir = os.path.dirname(os.getcwd())\n",
    "path = parent_dir \n",
    "save_path = parent_dir + '/'\n",
    "\n",
    "num_clusters = 15\n",
    "fig_id = ['a.', 'b.', 'c.', 'd.', 'e.', 'f.', 'g.', 'h.', 'i.', 'j.', 'k.',  'l.', 'm.', 'n.', 'o.']\n",
    "\n",
    "#set up figure\n",
    "fig = plt.figure(figsize=(14, 18))\n",
    "ax = []\n",
    "for i in range(1, num_clusters+1):\n",
    "    ax.append(fig.add_subplot(6, 3, i))\n",
    "plt.subplots_adjust(hspace=0.3)\n",
    "plt.subplots_adjust(wspace=0.3)\n",
    "\n",
    "#read cluster labels and centers\n",
    "cluster_labels = pd.read_csv('Data/Cluster_Results_Adaptive/cluster_labels_'+str(num_clusters)+'.csv', header=None)\n",
    "cluster_centers = pd.read_csv('Data/Cluster_Results_Adaptive/cluster_centers_'+str(num_clusters)+'.csv', header=None)\n",
    "\n",
    "unique_clusters = np.unique(cluster_labels.values)\n",
    "cluster_info_df = pd.DataFrame(columns=['Orig Cluster Label', 'Area Under Curve', 'Sorted Label'])\n",
    "cluster_info_df['Orig Cluster Label'] = unique_clusters\n",
    "\n",
    "for c in range(num_clusters):\n",
    "    #calculate area under curve for each cluster\n",
    "    cluster_info_df.loc[c, 'Area Under Curve'] = np.trapz(cluster_centers.iloc[c, :].values)\n",
    "\n",
    "#sort clusters by area under curve and make a new column that saves the old index values from 0-17\n",
    "cluster_info_df['old index'] = cluster_info_df.index\n",
    "cluster_info_df = cluster_info_df.sort_values(by='Area Under Curve', ascending=False)\n",
    "cluster_info_df['Sorted Label'] = np.arange(1, num_clusters+1)\n",
    "cluster_info_df.to_csv('Data/Cluster_Results_Adaptive/cluster_info_'+str(num_clusters)+'.csv', index=False)\n",
    "\n",
    "for c in range(num_clusters):\n",
    "    #plot charger availability curve for each driver from the feature array\n",
    "    for i, driver in enumerate(np.where(cluster_labels==cluster_info_df['Orig Cluster Label'].values[c])[0]):\n",
    "        ax[c].plot(range(timesteps),feat_array[driver, :], color = color_palette[int(c%12)], alpha=0.2)\n",
    "        \n",
    "    #plot cluster center\n",
    "    ax[c].plot(range(timesteps),cluster_centers.iloc[cluster_info_df['old index'].values[c], :], linewidth=2.5, color = 'k', label = 'Cluster Center')\n",
    "    \n",
    "    print('Cluster ', c+1, 'has ', len(np.where(cluster_labels==cluster_info_df['Orig Cluster Label'].values[c])[0]), 'vehicles')\n",
    "    ax[c].set_ylim([0,1])\n",
    "    ax[c].set_xlabel('Time [hours]', fontsize=12)\n",
    "    ax[c].set_ylabel('Charging Availability', fontsize=12)\n",
    "    ax[c].set_xticks(np.arange(0, timesteps+1, 60 * 4), labels = np.arange(0, int(timesteps/60)+1, 4))\n",
    "    ax[c].tick_params(axis='both', which='major', labelsize=12)\n",
    "    ax[c].legend(title = 'Cluster '+ str(c+1), fontsize=10, title_fontsize=11)\n",
    "    ax[c].annotate(fig_id[c], xy=(-0.2, 1.07), xycoords='axes fraction', fontsize=14)\n",
    "\n",
    "\n",
    "plt.savefig(save_path + '/4_cluster_profiles.pdf', bbox_inches='tight')\n",
    "plt.show()"
   ]
  }
 ],
 "metadata": {
  "kernelspec": {
   "display_name": "Python 3",
   "language": "python",
   "name": "python3"
  },
  "language_info": {
   "codemirror_mode": {
    "name": "ipython",
    "version": 3
   },
   "file_extension": ".py",
   "mimetype": "text/x-python",
   "name": "python",
   "nbconvert_exporter": "python",
   "pygments_lexer": "ipython3",
   "version": "3.10.12"
  }
 },
 "nbformat": 4,
 "nbformat_minor": 2
}
