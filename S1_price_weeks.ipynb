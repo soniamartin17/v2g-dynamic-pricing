{
 "cells": [
  {
   "cell_type": "code",
   "execution_count": null,
   "metadata": {},
   "outputs": [],
   "source": [
    "import pandas as pd\n",
    "import numpy as np\n",
    "import matplotlib.pyplot as plt\n",
    "import matplotlib.cm as cm\n",
    "import warnings\n",
    "import datetime\n",
    "import sys\n",
    "import os\n",
    "from optimization import v2gOptimization"
   ]
  },
  {
   "cell_type": "code",
   "execution_count": null,
   "metadata": {},
   "outputs": [],
   "source": [
    "color_palette = ['#332288',  '#117733', '#44AA99', '#88CCEE', '#DDCC77', '#CC6677', '#AA4499', '#882255']\n",
    "parent_dir = os.path.dirname(os.getcwd())\n",
    "path = parent_dir \n",
    "save_path = parent_dir + '/'"
   ]
  },
  {
   "cell_type": "markdown",
   "metadata": {},
   "source": [
    "# Figure S1: weekly dynamic prices "
   ]
  },
  {
   "cell_type": "code",
   "execution_count": null,
   "metadata": {},
   "outputs": [],
   "source": [
    "def plot_accessories(ax):\n",
    "    #set axis ticks and labels to days\n",
    "    ax.set_xticks(np.arange(0, 7*24*60, 24*60))\n",
    "    ax.set_xticklabels(['Monday', 'Tuesday', 'Wednesday', 'Thursday', 'Friday', 'Saturday', 'Sunday'])  \n",
    "\n",
    "    ax.xaxis.set_tick_params(labelsize=13)\n",
    "    ax.yaxis.set_tick_params(labelsize=13)\n",
    "    ax.set_xlabel('Time [day]', fontsize=14)\n",
    "    ax.set_ylabel('Price [$/kWh]', fontsize=14)"
   ]
  },
  {
   "cell_type": "code",
   "execution_count": null,
   "metadata": {},
   "outputs": [],
   "source": [
    "fig, ax = plt.subplots(4,1,figsize=(12, 16))\n",
    "plt.subplots_adjust(hspace=0.25)\n",
    "plt.subplots_adjust(wspace=0.2)\n",
    "\n",
    "ax = ax.flatten()\n",
    "fig_label = ['a.', 'b.', 'c.', 'd.']\n",
    "\n",
    "batt_params_file = 'Parameters/params_battery_model.json'\n",
    "\n",
    "for k, circuit in enumerate(['1_cir', '2_cir', '3_cir', '4_cir']):\n",
    "    params_filename = 'Parameters/params_pge_0_batt_'+circuit+'.json'\n",
    "    v2g_opt = v2gOptimization(params_filename, batt_params_file)\n",
    "\n",
    "    mondays, num_weeks = v2g_opt.define_weeks(v2g_opt.min_date_price, v2g_opt.max_date_price, v2g_opt.prices)\n",
    "    for j, monday in enumerate(mondays[15:20]):\n",
    "        start = monday\n",
    "        period_string = str(start) + '_to_' + str(start + datetime.timedelta(days=6))\n",
    "\n",
    "        #get the dynamic price vector for the price week\n",
    "        price_week = v2g_opt.prices.loc[(v2g_opt.prices.datetime.dt.date >= start)&(v2g_opt.prices.datetime.dt.date <= start + datetime.timedelta(days=6))].Price.values\n",
    "        price_week = np.repeat(price_week / 100, 60)\n",
    "\n",
    "        #set up the ELRP price vector for the price week\n",
    "        tmp_elrp = price_week\n",
    "        #pick 10 random days to be ELRP days\n",
    "        np.random.seed(1)\n",
    "        elrp_days = np.random.choice(np.arange(121,v2g_opt.elrp_total_num_days+121), 10, replace=False)\n",
    "        elrp_start_times = np.random.choice([16, 17, 18], 10, replace=True)\n",
    "        #loop through each day to check if it's an ELRP day\n",
    "        for i in range(7):\n",
    "            day = start + datetime.timedelta(days=i)\n",
    "            if day.timetuple().tm_yday in elrp_days:\n",
    "                start_time = i*24*60 + elrp_start_times[np.where(elrp_days==day.timetuple().tm_yday)[0][0]]*60\n",
    "                tmp_elrp[start_time:start_time + 3 * 60 ] = 2\n",
    "        price_week_elrp = tmp_elrp\n",
    "        ax[k].plot(price_week_elrp,  color = color_palette[j], label = str(start))\n",
    "\n",
    "    plot_accessories(ax[k])\n",
    "    ax[k].annotate('Circuit ' + str(k+1), xy=(0.5, .9), xycoords='axes fraction', ha='center', fontsize=16)\n",
    "    ax[k].annotate(fig_label[k], xy=(-.05, 1.05), xycoords='axes fraction', ha='center', fontsize=16)\n",
    "\n",
    "plt.savefig(save_path + 'S1_price_weeks.pdf', bbox_inches='tight')"
   ]
  }
 ],
 "metadata": {
  "kernelspec": {
   "display_name": "v2g_env (3.10.12)",
   "language": "python",
   "name": "python3"
  },
  "language_info": {
   "codemirror_mode": {
    "name": "ipython",
    "version": 3
   },
   "file_extension": ".py",
   "mimetype": "text/x-python",
   "name": "python",
   "nbconvert_exporter": "python",
   "pygments_lexer": "ipython3",
   "version": "3.10.12"
  }
 },
 "nbformat": 4,
 "nbformat_minor": 2
}
