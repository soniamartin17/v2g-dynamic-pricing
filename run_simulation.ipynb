{
 "cells": [
  {
   "cell_type": "code",
   "execution_count": null,
   "metadata": {},
   "outputs": [],
   "source": [
    "from clustering import *\n",
    "import datetime\n",
    "import os\n",
    "import warnings\n",
    "from optimization import v2gOptimization\n",
    "\n",
    "warnings.simplefilter(action='ignore', category=FutureWarning)"
   ]
  },
  {
   "cell_type": "markdown",
   "metadata": {},
   "source": [
    "## Define path to Data folder"
   ]
  },
  {
   "cell_type": "code",
   "execution_count": null,
   "metadata": {},
   "outputs": [],
   "source": [
    "path = os.getcwd() + '/Data/'"
   ]
  },
  {
   "cell_type": "markdown",
   "metadata": {},
   "source": [
    "## Create baseline charging data files - only needs to be run once"
   ]
  },
  {
   "cell_type": "code",
   "execution_count": null,
   "metadata": {},
   "outputs": [],
   "source": [
    "# load the initial data\n",
    "filename = path + 'audi_etron_ca_SAMPLE_PROCESSED_withAccess_withSpeeds.csv'\n",
    "vehicle_df_all = load_data(filename)"
   ]
  },
  {
   "cell_type": "code",
   "execution_count": null,
   "metadata": {},
   "outputs": [],
   "source": [
    "# create baseline data for a specific date range\n",
    "min_date = datetime.date(2020, 1, 1)\n",
    "max_date = datetime.date(2020, 1, 31)\n",
    "data_subset = create_baseline_data(vehicle_df_all, min_date, max_date)"
   ]
  },
  {
   "cell_type": "markdown",
   "metadata": {},
   "source": [
    "## Create feature array"
   ]
  },
  {
   "cell_type": "code",
   "execution_count": null,
   "metadata": {},
   "outputs": [],
   "source": [
    "#create weekly feature array\n",
    "min_date = datetime.date(2019, 10, 1)\n",
    "max_date = datetime.date(2020, 2, 29)\n",
    "feature_type = 'access_daily_weekdays'\n",
    "feature_array, vinids = create_feature_array(min_date, max_date, feature_type, path)"
   ]
  },
  {
   "cell_type": "code",
   "execution_count": null,
   "metadata": {},
   "outputs": [],
   "source": [
    "#save vinids and feature array\n",
    "print('Feature array shape is: ' + feature_array.shape)\n",
    "pd.DataFrame(vinids).to_csv(path + 'vinids.csv', index=True)\n",
    "pd.DataFrame(feature_array).to_csv(path + 'feature_array_daily_access.csv', index=False)"
   ]
  },
  {
   "cell_type": "markdown",
   "metadata": {},
   "source": [
    "## Load feature arrays and run clustering"
   ]
  },
  {
   "cell_type": "code",
   "execution_count": null,
   "metadata": {},
   "outputs": [],
   "source": [
    "#run adaptive clustering\n",
    "feat_array = pd.read_csv(path + 'feature_array_daily_access.csv').values\n",
    "run_adaptive_clustering(feat_array)"
   ]
  },
  {
   "cell_type": "markdown",
   "metadata": {},
   "source": [
    "## Check if MOSEK license is present (Windows)"
   ]
  },
  {
   "cell_type": "code",
   "execution_count": null,
   "metadata": {},
   "outputs": [],
   "source": [
    "myusername = 'myusername'  # Replace with your actual username\n",
    "if os.path.exists(f'C:\\\\Users\\\\{myusername}\\\\mosek\\\\mosek.lic'):\n",
    "    print('License file is present and optimization can proceed.')\n",
    "else:\n",
    "    print('License file is missing. Please ensure that the license file is in the correct directory.')\n"
   ]
  },
  {
   "cell_type": "markdown",
   "metadata": {},
   "source": [
    "## Check if MOSEK license is present (Mac)"
   ]
  },
  {
   "cell_type": "code",
   "execution_count": null,
   "metadata": {},
   "outputs": [],
   "source": [
    "myusername = 'myusername'  # Replace with your actual username\n",
    "if os.path.exists('/Users/'+myusername+'/mosek/mosek.lic'):\n",
    "    print('License file is present and optimization can proceed.')\n",
    "else:\n",
    "    print('License file is missing. Please ensure that the license file is in the correct directory.') "
   ]
  },
  {
   "cell_type": "markdown",
   "metadata": {},
   "source": [
    "## Run optimization"
   ]
  },
  {
   "cell_type": "code",
   "execution_count": null,
   "metadata": {},
   "outputs": [],
   "source": [
    "#Set initial parameters for optimization\n",
    "circuit = 1\n",
    "battery_cost = 0\n",
    "day_ahead = False\n",
    "num_vins = 10\n",
    "\n",
    "#get parameters file\n",
    "params_filename = 'Parameters/params_pge_'+str(battery_cost) + '_batt_' + str(circuit) +'_cir.json'\n",
    "batt_params_filename = 'Parameters/params_battery_model.json'\n",
    "v2g_opt = v2gOptimization(params_filename, batt_params_filename)\n",
    "\n",
    "#run optimization\n",
    "vinids = np.arange(1,num_vins)\n",
    "if day_ahead:\n",
    "    for vin in vinids:\n",
    "        print('Running day-ahead optimization for vin ' + str(vin))\n",
    "        v2g_opt.call_optimization_day_ahead(vin)\n",
    "else:\n",
    "    for vin in vinids:\n",
    "        print('Running weekly perfect foresight optimization for vin ' + str(vin))\n",
    "        v2g_opt.call_optimization(vin)"
   ]
  }
 ],
 "metadata": {
  "kernelspec": {
   "display_name": "Python 3",
   "language": "python",
   "name": "python3"
  },
  "language_info": {
   "codemirror_mode": {
    "name": "ipython",
    "version": 3
   },
   "file_extension": ".py",
   "mimetype": "text/x-python",
   "name": "python",
   "nbconvert_exporter": "python",
   "pygments_lexer": "ipython3",
   "version": "3.10.12"
  }
 },
 "nbformat": 4,
 "nbformat_minor": 2
}
